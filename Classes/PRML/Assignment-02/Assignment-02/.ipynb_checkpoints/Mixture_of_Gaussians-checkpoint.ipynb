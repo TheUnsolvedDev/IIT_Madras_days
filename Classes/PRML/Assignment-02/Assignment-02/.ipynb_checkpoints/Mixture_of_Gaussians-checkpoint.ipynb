{
 "cells": [
  {
   "cell_type": "markdown",
   "metadata": {},
   "source": [
    "# Proven to Work Q1 (ii)"
   ]
  },
  {
   "cell_type": "code",
   "execution_count": 8,
   "metadata": {},
   "outputs": [
    {
     "name": "stdout",
     "output_type": "stream",
     "text": [
      "The autotime extension is already loaded. To reload it, use:\n",
      "  %reload_ext autotime\n",
      "time: 915 µs (started: 2022-10-26 08:31:41 +05:30)\n"
     ]
    }
   ],
   "source": [
    "try:\n",
    "    %load_ext autotime\n",
    "except:\n",
    "    !pip install ipython-autotime\n",
    "    %load_ext autotime"
   ]
  },
  {
   "cell_type": "code",
   "execution_count": 22,
   "metadata": {},
   "outputs": [
    {
     "name": "stdout",
     "output_type": "stream",
     "text": [
      "time: 522 µs (started: 2022-10-26 11:22:56 +05:30)\n"
     ]
    }
   ],
   "source": [
    "import numpy as np\n",
    "import matplotlib.pyplot as plt\n",
    "# Using random and softmax to generate random numbers\n",
    "import random\n",
    "from scipy.special import softmax\n",
    "from scipy.stats import multivariate_normal\n",
    "from scipy.stats import norm\n"
   ]
  },
  {
   "cell_type": "code",
   "execution_count": 23,
   "metadata": {
    "colab": {
     "base_uri": "https://localhost:8080/",
     "height": 296
    },
    "id": "S6bvytO1dQEX",
    "outputId": "e34deb92-7779-4d0e-b4b0-2249b418c2f2"
   },
   "outputs": [
    {
     "name": "stdout",
     "output_type": "stream",
     "text": [
      "time: 581 µs (started: 2022-10-26 11:22:57 +05:30)\n"
     ]
    }
   ],
   "source": [
    "# df=pd.read_csv('A2Q1.csv', sep=',',header=None)\n",
    "# data = df.values\n",
    "# print(\"Shape of data : \", np.shape(data))\n",
    "\n",
    "# val = 0. \n",
    "# arr = data \n",
    "# plt.plot(arr, np.zeros_like(arr) + val, 'x')\n",
    "# plt.xlabel('x')\n",
    "# plt.ylabel('y')\n",
    "# plt.show()"
   ]
  },
  {
   "cell_type": "code",
   "execution_count": 24,
   "metadata": {
    "colab": {
     "base_uri": "https://localhost:8080/",
     "height": 295
    },
    "id": "KHxgHyuVBHBQ",
    "outputId": "ef6b9991-73c2-4d0a-eca3-48a839fccf36"
   },
   "outputs": [
    {
     "name": "stdout",
     "output_type": "stream",
     "text": [
      "time: 400 µs (started: 2022-10-26 11:22:57 +05:30)\n"
     ]
    }
   ],
   "source": [
    "# x = data\n",
    "# plt.hist(x)\n",
    "# plt.xlabel('x')\n",
    "# plt.title('Histogram')\n",
    "# plt.show() "
   ]
  },
  {
   "cell_type": "code",
   "execution_count": 34,
   "metadata": {},
   "outputs": [
    {
     "name": "stdout",
     "output_type": "stream",
     "text": [
      "time: 3.1 ms (started: 2022-10-26 11:26:55 +05:30)\n"
     ]
    }
   ],
   "source": [
    "class GMM:\n",
    "\n",
    "    def __init__(self,X,K,iterations):\n",
    "        self.iterations = iterations\n",
    "        self.K = K\n",
    "        self.X = X\n",
    "        self.mu = None\n",
    "        self.pi = None\n",
    "        self.cov = None\n",
    "        self.XY = None\n",
    "\n",
    "\n",
    "    def run(self):\n",
    "        self.reg_cov = 1e-6*np.identity(len(self.X[0]))\n",
    "        x,y = np.meshgrid(np.sort(self.X[:,0]),np.sort(self.X[:,1]))\n",
    "        self.XY = np.array([x.flatten(),y.flatten()]).T\n",
    "           \n",
    "                    \n",
    "        \"\"\" Set the initial mu, covariance and pi values\"\"\"\n",
    "        self.mu = np.random.randint(min(self.X[:,0]),max(self.X[:,0]),size=(self.K,len(self.X[0]))) # (n x m) dim matrix\n",
    "        self.cov = np.zeros((self.K,len(X[0]),len(X[0]))) # (n x m x m) dim covariance matrix for each source\n",
    "        for dim in range(len(self.cov)):\n",
    "            np.fill_diagonal(self.cov[dim],5)\n",
    "\n",
    "        self.pi = np.ones(self.K) / self.K\n",
    "\n",
    "        log_likelihoods = []\n",
    "                    \n",
    "        for i in range(self.iterations):               \n",
    "            \"\"\"E Step\"\"\"\n",
    "            r_ik = np.zeros((len(self.X),len(self.cov)))\n",
    "\n",
    "            for m,co,p,r in zip(self.mu,self.cov,self.pi,range(len(r_ik[0]))):\n",
    "                co+=self.reg_cov\n",
    "                mn = multivariate_normal(mean=m,cov=co)\n",
    "                r_ik[:,r] = p*mn.pdf(self.X) / np.sum([pi_k*multivariate_normal(mean=mu_k,cov=cov_k).pdf(X) \\\n",
    "                                                     for pi_k,mu_k,cov_k in zip(self.pi,self.mu,self.cov+self.reg_cov)],axis=0)\n",
    "\n",
    "            \"\"\"M Step\"\"\"\n",
    "            # Calculate new mean & new covariance_matrice\n",
    "            self.mu = []\n",
    "            self.cov = []\n",
    "            self.pi = []\n",
    "            \n",
    "            for k in range(len(r_ik[0])):\n",
    "                m_k = np.sum(r_ik[:,k],axis=0)\n",
    "                mu_k = (1/m_k)*np.sum(self.X*r_ik[:,k].reshape(len(self.X),1),axis=0)\n",
    "                self.mu.append(mu_k)\n",
    "\n",
    "                # Calculate and append the covariance matrix per source based on the new mean\n",
    "                cov_k = ((1/m_k)*np.dot((np.array(r_ik[:,k]).reshape(len(self.X),1)*(self.X-mu_k)).T,(self.X-mu_k)))+self.reg_cov\n",
    "                self.cov.append(cov_k)\n",
    "                # Calculate and append pi_new\n",
    "                pi_k = m_k / np.sum(r_ik)\n",
    "                self.pi.append(pi_k)\n",
    "\n",
    "\n",
    "            \"\"\"Log likelihood\"\"\"\n",
    "            lh = np.sum([k*multivariate_normal(self.mu[i],self.cov[j]).pdf(X) \\\n",
    "                                                  for k,i,j in zip(self.pi,range(len(self.mu)),range(len(self.cov)))])\n",
    "            llh = np.log(lh)\n",
    "            log_likelihoods.append(llh)\n",
    "\n",
    "            \n",
    "\n",
    "        fig2 = plt.figure(figsize=(10,7))\n",
    "        ax1 = fig2.add_subplot(111) \n",
    "        ax1.set_title('Log-Likelihood')\n",
    "        plt.xlabel(\"Number of Iterations\")\n",
    "        plt.ylabel(\"Loglikelihood\")\n",
    "        ax1.plot(range(0,self.iterations,1),log_likelihoods)\n",
    "        # plt.savefig(\"plots/plot-EM_Gaussian.png\")\n",
    "        plt.show()\n"
   ]
  },
  {
   "cell_type": "code",
   "execution_count": 35,
   "metadata": {
    "colab": {
     "base_uri": "https://localhost:8080/"
    },
    "id": "8MjP7-5_DtD8",
    "outputId": "288d809b-c33c-4529-807a-4906fa8512fe"
   },
   "outputs": [
    {
     "name": "stdout",
     "output_type": "stream",
     "text": [
      "Shape of X:  (400, 50)\n",
      "time: 17.6 ms (started: 2022-10-26 11:26:56 +05:30)\n"
     ]
    }
   ],
   "source": [
    "data = np.genfromtxt(\"A2Q1.csv\", delimiter=',')\n",
    "X = data\n",
    "print(\"Shape of X: \", np.shape(X))"
   ]
  },
  {
   "cell_type": "code",
   "execution_count": 36,
   "metadata": {},
   "outputs": [
    {
     "data": {
      "image/png": "[encoded data removed]",
      "text/plain": [
       "<Figure size 1000x700 with 1 Axes>"
      ]
     },
     "metadata": {},
     "output_type": "display_data"
    },
    {
     "name": "stdout",
     "output_type": "stream",
     "text": [
      "time: 13.3 s (started: 2022-10-26 11:26:57 +05:30)\n"
     ]
    }
   ],
   "source": [
    "K = 4 # Given K=4\n",
    "model = GMM(X,K,100)     \n",
    "model.run()"
   ]
  },
  {
   "cell_type": "code",
   "execution_count": null,
   "metadata": {},
   "outputs": [],
   "source": []
  }
 ],
 "metadata": {
  "colab": {
   "provenance": []
  },
  "kernelspec": {
   "display_name": "Python 3 (ipykernel)",
   "language": "python",
   "name": "python3"
  },
  "language_info": {
   "codemirror_mode": {
    "name": "ipython",
    "version": 3
   },
   "file_extension": ".py",
   "mimetype": "text/x-python",
   "name": "python",
   "nbconvert_exporter": "python",
   "pygments_lexer": "ipython3",
   "version": "3.8.0"
  }
 },
 "nbformat": 4,
 "nbformat_minor": 4
}
