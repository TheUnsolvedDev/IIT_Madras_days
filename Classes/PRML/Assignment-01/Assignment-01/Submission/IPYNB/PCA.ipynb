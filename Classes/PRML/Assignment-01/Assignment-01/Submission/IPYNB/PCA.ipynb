{
 "cells": [
  {
   "cell_type": "code",
   "execution_count": 2,
   "metadata": {
    "id": "l-CqnTj7vR4J"
   },
   "outputs": [],
   "source": [
    "import numpy as np\n",
    "import matplotlib.pyplot as plt\n",
    "# %matplotlib inline"
   ]
  },
  {
   "cell_type": "markdown",
   "metadata": {
    "id": "3PF0Lty1vR4K"
   },
   "source": [
    "# Loading Data"
   ]
  },
  {
   "cell_type": "code",
   "execution_count": 3,
   "metadata": {
    "colab": {
     "base_uri": "https://localhost:8080/"
    },
    "id": "LPq5-wG0vR4M",
    "outputId": "b13eda4d-a9b9-4954-e7d5-c1073bed1689"
   },
   "outputs": [
    {
     "name": "stdout",
     "output_type": "stream",
     "text": [
      "[0.143   0.98493]\n"
     ]
    }
   ],
   "source": [
    "data = np.genfromtxt('./Dataset.csv', delimiter=',')\n",
    "print(data[0])"
   ]
  },
  {
   "cell_type": "code",
   "execution_count": 4,
   "metadata": {
    "colab": {
     "base_uri": "https://localhost:8080/"
    },
    "id": "N6PeFlrxvR4N",
    "outputId": "0dc22822-6f79-4a78-bc97-7da84eda2bfa"
   },
   "outputs": [
    {
     "name": "stdout",
     "output_type": "stream",
     "text": [
      "0.143 0.98493\n",
      "(1000, 2)\n"
     ]
    }
   ],
   "source": [
    "x = data[:,0]\n",
    "y = data[:,1]\n",
    "\n",
    "print(x[0],y[0])\n",
    "print(data.shape)"
   ]
  },
  {
   "cell_type": "code",
   "execution_count": 5,
   "metadata": {
    "colab": {
     "base_uri": "https://localhost:8080/"
    },
    "id": "8vLdIpZYvR4N",
    "outputId": "a18f27c8-35b2-424d-91e7-90e2da3553c9"
   },
   "outputs": [
    {
     "data": {
      "text/plain": [
       "(1000,)"
      ]
     },
     "execution_count": 5,
     "metadata": {},
     "output_type": "execute_result"
    }
   ],
   "source": [
    "x.shape"
   ]
  },
  {
   "cell_type": "code",
   "execution_count": 6,
   "metadata": {
    "colab": {
     "base_uri": "https://localhost:8080/",
     "height": 286
    },
    "id": "SbLxYA55vR4N",
    "outputId": "45a47244-8075-436a-dbaa-a2a7310718ca"
   },
   "outputs": [
    {
     "data": {
      "text/plain": [
       "<matplotlib.collections.PathCollection at 0x7f4e07133b10>"
      ]
     },
     "execution_count": 6,
     "metadata": {},
     "output_type": "execute_result"
    },
    {
     "data": {
      "image/png": "[encoded data removed]",
      "text/plain": [
       "<Figure size 432x288 with 1 Axes>"
      ]
     },
     "metadata": {
      "needs_background": "light"
     },
     "output_type": "display_data"
    }
   ],
   "source": [
    "plt.scatter(x,y)"
   ]
  },
  {
   "cell_type": "markdown",
   "metadata": {
    "id": "3YKsnnodvR4O"
   },
   "source": [
    "# PCA"
   ]
  },
  {
   "cell_type": "code",
   "execution_count": 7,
   "metadata": {
    "colab": {
     "base_uri": "https://localhost:8080/"
    },
    "id": "M2WoT_13vR4O",
    "outputId": "314007f4-ca81-4a74-f250-0c598af659b3"
   },
   "outputs": [
    {
     "name": "stdout",
     "output_type": "stream",
     "text": [
      "[[1.001001   0.05132212]\n",
      " [0.05132212 1.001001  ]]\n"
     ]
    }
   ],
   "source": [
    "# Calculate Mean\n",
    "x_mean = np.mean(x)\n",
    "y_mean = np.mean(y)\n",
    "x_std = np.std(x)\n",
    "y_std = np.std(y)\n",
    "\n",
    "# Mean Normalize\n",
    "x_std = (x - x_mean) / x_std\n",
    "y_std = (y - y_mean) / y_std\n",
    "\n",
    "# Covariance Matrix\n",
    "cov_mat = np.cov([x_std,y_std])\n",
    "\n",
    "print(cov_mat)"
   ]
  },
  {
   "cell_type": "code",
   "execution_count": 8,
   "metadata": {
    "id": "2mLWRMntvR4O"
   },
   "outputs": [],
   "source": [
    "# eigenvectors and eigenvalues for the from the covariance matrix\n",
    "eig_val_sc, eig_vec_sc = np.linalg.eig(cov_mat)"
   ]
  },
  {
   "cell_type": "code",
   "execution_count": 9,
   "metadata": {
    "colab": {
     "base_uri": "https://localhost:8080/"
    },
    "id": "EDLIXBZIvR4P",
    "outputId": "75ef135e-04a8-4505-e091-dcfd4251d9b8"
   },
   "outputs": [
    {
     "name": "stdout",
     "output_type": "stream",
     "text": [
      "----------------------------------------\n",
      "[-0.70710678 -0.70710678]\n",
      "[-0.70710678  0.70710678]\n"
     ]
    }
   ],
   "source": [
    "# Make a list of (eigenvalue, eigenvector) tuples\n",
    "eig_pairs = [(np.abs(eig_val_sc[i]), eig_vec_sc[:,i]) for i in range(len(eig_val_sc))]\n",
    "\n",
    "# Sort the (eigenvalue, eigenvector) tuples from high to low\n",
    "eig_pairs.sort(key=lambda x: x[0], reverse=True)\n",
    "\n",
    "print(40 * '-')\n",
    "# Visually confirm that the list is correctly sorted by decreasing eigenvalues\n",
    "for i in eig_pairs:\n",
    "    print(i[1])\n"
   ]
  },
  {
   "cell_type": "code",
   "execution_count": 10,
   "metadata": {
    "colab": {
     "base_uri": "https://localhost:8080/"
    },
    "id": "LGBNBy-8vR4P",
    "outputId": "643703a6-9e3d-4e16-e87f-1b7931d9c878"
   },
   "outputs": [
    {
     "name": "stdout",
     "output_type": "stream",
     "text": [
      "----------------------------------------\n",
      "Matrix W: \n",
      " [[-0.70710678 -0.70710678]\n",
      " [-0.70710678  0.70710678]]\n"
     ]
    }
   ],
   "source": [
    "matrix_w = np.hstack((eig_pairs[0][1].reshape(2,1), eig_pairs[1][1].reshape(2,1)))\n",
    "print(40 * '-')\n",
    "print('Matrix W: \\n', matrix_w)"
   ]
  },
  {
   "cell_type": "code",
   "execution_count": 11,
   "metadata": {
    "colab": {
     "base_uri": "https://localhost:8080/"
    },
    "id": "lfRiJ3r6vR4Q",
    "outputId": "a312c883-f8d5-4fd7-9d32-ac1c76ff9672"
   },
   "outputs": [
    {
     "name": "stdout",
     "output_type": "stream",
     "text": [
      "(2, 2)\n",
      "(1000,)\n",
      "(1000,)\n"
     ]
    }
   ],
   "source": [
    "print(matrix_w.shape)\n",
    "print(x.shape)\n",
    "print(y.shape)\n"
   ]
  },
  {
   "cell_type": "code",
   "execution_count": 13,
   "metadata": {
    "colab": {
     "base_uri": "https://localhost:8080/"
    },
    "id": "OWFzkV34vR4Q",
    "outputId": "7c963bf0-70b9-4c10-d856-fc88e99ffd73"
   },
   "outputs": [
    {
     "name": "stdout",
     "output_type": "stream",
     "text": [
      "[[ 0.03721355 -0.07928601  0.12133462 ...  1.58904894 -1.92818785\n",
      "  -0.03369538]\n",
      " [ 0.23990329  0.24007136 -0.20460953 ... -1.45813149 -1.34465036\n",
      "  -2.14432818]]\n"
     ]
    },
    {
     "data": {
      "text/plain": [
       "(2, 1000)"
      ]
     },
     "execution_count": 13,
     "metadata": {},
     "output_type": "execute_result"
    }
   ],
   "source": [
    "features = np.vstack([x_std,y_std])\n",
    "print(features)\n",
    "features.shape\n"
   ]
  },
  {
   "cell_type": "code",
   "execution_count": 14,
   "metadata": {
    "colab": {
     "base_uri": "https://localhost:8080/"
    },
    "id": "1oGcxX8BvR4Q",
    "outputId": "9835b62c-da98-48f1-b6f5-4dcaa0e0441d"
   },
   "outputs": [
    {
     "name": "stdout",
     "output_type": "stream",
     "text": [
      "[[-0.1959512  -0.11369241  0.05888425 ... -0.09257262  2.31424609\n",
      "   1.54009523]\n",
      " [ 0.14332329  0.22581976 -0.23047732 ... -2.15468194  0.41262332\n",
      "  -1.49244277]]\n"
     ]
    }
   ],
   "source": [
    "transformed = np.dot(matrix_w,features)\n",
    "print(transformed)"
   ]
  },
  {
   "cell_type": "code",
   "execution_count": 17,
   "metadata": {
    "colab": {
     "base_uri": "https://localhost:8080/",
     "height": 282
    },
    "id": "cvGSnP0YvR4Q",
    "outputId": "6c0d92f3-2228-4522-c92f-807938bc9566"
   },
   "outputs": [
    {
     "data": {
      "text/plain": [
       "<matplotlib.collections.PathCollection at 0x7f4e0608e210>"
      ]
     },
     "execution_count": 17,
     "metadata": {},
     "output_type": "execute_result"
    },
    {
     "data": {
      "image/png": "[encoded data removed]",
      "text/plain": [
       "<Figure size 432x288 with 1 Axes>"
      ]
     },
     "metadata": {
      "needs_background": "light"
     },
     "output_type": "display_data"
    }
   ],
   "source": [
    "plt.scatter(transformed[0,:],transformed[1,:])\n"
   ]
  }
 ],
 "metadata": {
  "colab": {
   "collapsed_sections": [],
   "provenance": []
  },
  "kernelspec": {
   "display_name": "Python 3 (ipykernel)",
   "language": "python",
   "name": "python3"
  },
  "language_info": {
   "codemirror_mode": {
    "name": "ipython",
    "version": 3
   },
   "file_extension": ".py",
   "mimetype": "text/x-python",
   "name": "python",
   "nbconvert_exporter": "python",
   "pygments_lexer": "ipython3",
   "version": "3.8.0"
  },
  "vscode": {
   "interpreter": {
    "hash": "8bcf9339324d47d43ddd2bc6959756529ffb1572395c6888ca1f366e2836a172"
   }
  }
 },
 "nbformat": 4,
 "nbformat_minor": 4
}
