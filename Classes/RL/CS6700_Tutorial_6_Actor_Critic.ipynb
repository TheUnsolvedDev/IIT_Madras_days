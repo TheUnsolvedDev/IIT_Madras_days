{
  "cells": [
    {
      "cell_type": "markdown",
      "metadata": {
        "id": "ogYi-LuvgAEQ"
      },
      "source": [
        "# Tutorial: Actor Critic Implementation\n"
      ]
    },
    {
      "cell_type": "code",
      "execution_count": 7,
      "metadata": {
        "colab": {
          "base_uri": "https://localhost:8080/"
        },
        "id": "020OsgLKgJoS",
        "outputId": "abcf3dc5-1d5c-408b-cb91-9d6d83639bba"
      },
      "outputs": [],
      "source": [
        "# Import required libraries\n",
        "\n",
        "import argparse\n",
        "import gym\n",
        "import numpy as np\n",
        "from itertools import count\n",
        "from collections import namedtuple\n",
        "\n",
        "import torch\n",
        "import torch.nn as nn\n",
        "import torch.nn.functional as F\n",
        "import torch.optim as optim\n",
        "from torch.distributions import Categorical"
      ]
    },
    {
      "cell_type": "code",
      "execution_count": 8,
      "metadata": {
        "colab": {
          "base_uri": "https://localhost:8080/"
        },
        "id": "BOx__gzXgP3T",
        "outputId": "1ec419c0-50b8-42c2-a754-edee30ed7df3"
      },
      "outputs": [],
      "source": [
        "# Set constants for training\n",
        "seed = 543\n",
        "log_interval = 10\n",
        "gamma = 0.99\n",
        "\n",
        "env = gym.make('CartPole-v1')\n",
        "env.reset(seed=seed)\n",
        "torch.manual_seed(seed)\n",
        "\n",
        "SavedAction = namedtuple('SavedAction', ['log_prob', 'value'])"
      ]
    },
    {
      "cell_type": "code",
      "execution_count": 9,
      "metadata": {
        "id": "dYf6f8SBeQYo"
      },
      "outputs": [],
      "source": [
        "env = gym.make('CartPole-v1')\n",
        "env.reset(seed=seed)\n",
        "torch.manual_seed(seed)\n",
        "\n",
        "\n",
        "SavedAction = namedtuple('SavedAction', ['log_prob', 'value'])\n",
        "\n",
        "\n",
        "class Policy(nn.Module):\n",
        "    \"\"\"\n",
        "    implements both actor and critic in one model\n",
        "    \"\"\"\n",
        "\n",
        "    def __init__(self):\n",
        "        super(Policy, self).__init__()\n",
        "        self.affine1 = nn.Linear(4, 128)\n",
        "\n",
        "        # actor's layer\n",
        "        self.action_head = nn.Linear(128, 2)\n",
        "\n",
        "        # critic's layer\n",
        "        self.value_head = nn.Linear(128, 1)\n",
        "\n",
        "        # action & reward buffer\n",
        "        self.saved_actions = []\n",
        "        self.rewards = []\n",
        "\n",
        "    def forward(self, x):\n",
        "        \"\"\"\n",
        "        forward of both actor and critic\n",
        "        \"\"\"\n",
        "        x = F.relu(self.affine1(x))\n",
        "\n",
        "        # actor: choses action to take from state s_t\n",
        "        # by returning probability of each action\n",
        "        action_prob = F.softmax(self.action_head(x), dim=-1)\n",
        "\n",
        "        # critic: evaluates being in the state s_t\n",
        "        state_values = self.value_head(x)\n",
        "\n",
        "        # return values for both actor and critic as a tuple of 2 values:\n",
        "        # 1. a list with the probability of each action over the action space\n",
        "        # 2. the value from state s_t\n",
        "        return action_prob, state_values"
      ]
    },
    {
      "cell_type": "code",
      "execution_count": 10,
      "metadata": {
        "id": "i579JI1oi6dc"
      },
      "outputs": [],
      "source": [
        "model = Policy()\n",
        "optimizer = optim.Adam(model.parameters(), lr=3e-2)\n",
        "eps = np.finfo(np.float32).eps.item()"
      ]
    },
    {
      "cell_type": "code",
      "execution_count": 15,
      "metadata": {
        "id": "qrVieI21i3O9"
      },
      "outputs": [],
      "source": [
        "\n",
        "def select_action(state):\n",
        "    state = torch.from_numpy(state).float()\n",
        "    probs, state_value = model(state)\n",
        "\n",
        "    # create a categorical distribution over the list of probabilities of actions\n",
        "    m = Categorical(probs)\n",
        "\n",
        "    # and sample an action using the distribution\n",
        "    action = m.sample()\n",
        "\n",
        "    # save to action buffer\n",
        "    model.saved_actions.append(SavedAction(m.log_prob(action), state_value))\n",
        "\n",
        "    # the action to take (left or right)\n",
        "    return action.item()\n",
        "\n",
        "\n",
        "def finish_episode():\n",
        "    \"\"\"\n",
        "    Training code. Calculates actor and critic loss and performs backprop.\n",
        "    \"\"\"\n",
        "    R = 0\n",
        "    saved_actions = model.saved_actions\n",
        "    policy_losses = []  # list to save actor (policy) loss\n",
        "    value_losses = []  # list to save critic (value) loss\n",
        "    returns = []  # list to save the true values\n",
        "\n",
        "    # calculate the true value using rewards returned from the environment\n",
        "    for r in model.rewards[::-1]:\n",
        "        # calculate the discounted value\n",
        "        R = r + gamma * R\n",
        "        returns.insert(0, R)\n",
        "\n",
        "    returns = torch.tensor(returns)\n",
        "    returns = (returns - returns.mean()) / (returns.std() + eps)\n",
        "\n",
        "    for (log_prob, value), R in zip(saved_actions, returns):\n",
        "        advantage = R - value.item()\n",
        "\n",
        "        # calculate actor (policy) loss\n",
        "        policy_losses.append(-log_prob * advantage)\n",
        "\n",
        "        # calculate critic (value) loss using L1 smooth loss\n",
        "        value_losses.append(F.smooth_l1_loss(value, torch.tensor([R])))\n",
        "\n",
        "    # reset gradients\n",
        "    optimizer.zero_grad()\n",
        "\n",
        "    # sum up all the values of policy_losses and value_losses\n",
        "    loss = torch.stack(policy_losses).sum() + torch.stack(value_losses).sum()\n",
        "\n",
        "    # perform backprop\n",
        "    loss.backward()\n",
        "    optimizer.step()\n",
        "\n",
        "    # reset rewards and action buffer\n",
        "    del model.rewards[:]\n",
        "    del model.saved_actions[:]\n",
        "\n",
        "\n",
        "def train():\n",
        "    running_reward = 10\n",
        "\n",
        "    # run infinitely many episodes\n",
        "    for i_episode in range(2000):\n",
        "\n",
        "        # reset environment and episode reward\n",
        "        state = env.reset()[0]\n",
        "        ep_reward = 0\n",
        "\n",
        "        # for each episode, only run 9999 steps so that we don't\n",
        "        # infinite loop while learning\n",
        "        for t in range(1, 10000):\n",
        "\n",
        "            # select action from policy\n",
        "            action = select_action(state)\n",
        "\n",
        "            # take the action\n",
        "            state, reward, done, truncated, _ = env.step(action)\n",
        "\n",
        "            model.rewards.append(reward)\n",
        "            ep_reward += reward\n",
        "            if done:\n",
        "                break\n",
        "\n",
        "        # update cumulative reward\n",
        "        running_reward = 0.05 * ep_reward + (1 - 0.05) * running_reward\n",
        "\n",
        "        # perform backprop\n",
        "        finish_episode()\n",
        "\n",
        "        # log results\n",
        "        if i_episode % log_interval == 0:\n",
        "            print('Episode {}\\tLast reward: {:.2f}\\tAverage reward: {:.2f}'.format(\n",
        "                  i_episode, ep_reward, running_reward))\n",
        "\n",
        "        # check if we have \"solved\" the cart pole problem\n",
        "        if running_reward > env.spec.reward_threshold:\n",
        "            print(\"Solved! Running reward is now {} and \"\n",
        "                  \"the last episode runs to {} time steps!\".format(running_reward, t))\n",
        "            break"
      ]
    },
    {
      "cell_type": "code",
      "execution_count": 16,
      "metadata": {
        "colab": {
          "base_uri": "https://localhost:8080/"
        },
        "id": "jUT3maPMlGi2",
        "outputId": "b0b39743-a3d9-4c49-c95b-2f33150e2cd1"
      },
      "outputs": [
        {
          "name": "stdout",
          "output_type": "stream",
          "text": [
            "Episode 0\tLast reward: 22.00\tAverage reward: 10.60\n",
            "Episode 10\tLast reward: 22.00\tAverage reward: 21.89\n",
            "Episode 20\tLast reward: 37.00\tAverage reward: 28.09\n",
            "Episode 30\tLast reward: 28.00\tAverage reward: 37.72\n",
            "Episode 40\tLast reward: 276.00\tAverage reward: 91.54\n",
            "Episode 50\tLast reward: 157.00\tAverage reward: 115.99\n",
            "Episode 60\tLast reward: 159.00\tAverage reward: 142.15\n",
            "Episode 70\tLast reward: 131.00\tAverage reward: 153.68\n",
            "Episode 80\tLast reward: 17.00\tAverage reward: 128.06\n",
            "Episode 90\tLast reward: 229.00\tAverage reward: 151.71\n",
            "Episode 100\tLast reward: 642.00\tAverage reward: 228.76\n",
            "Solved! Running reward is now 636.0859746392732 and the last episode runs to 6839 time steps!\n"
          ]
        }
      ],
      "source": [
        "train()"
      ]
    },
    {
      "cell_type": "markdown",
      "metadata": {
        "id": "lA2T0_22kK3g"
      },
      "source": [
        "# TODO: Write a policy class similar to the above, without using shared features for the actor and critic and compare their performance.\n"
      ]
    },
    {
      "cell_type": "code",
      "execution_count": 19,
      "metadata": {
        "id": "qkE5fjLieZVg"
      },
      "outputs": [],
      "source": [
        "\n",
        "# TODO: Write a policy class similar to the above, without using shared features for the actor and critic and compare their\n",
        "# performance.\n",
        "\n",
        "class UnsharedPolicy(nn.Module):\n",
        "    def __init__(self):\n",
        "        super(UnsharedPolicy, self).__init__()\n",
        "        # TODO: Fill in.\n",
        "        hidden_size = 128\n",
        "        # Actor network\n",
        "        self.actor_affine1 = nn.Linear(4, hidden_size)\n",
        "        self.action_head = nn.Linear(hidden_size, 2)\n",
        "\n",
        "        # Critic network\n",
        "        self.critic_affine1 = nn.Linear(4, hidden_size)\n",
        "        self.value_head = nn.Linear(hidden_size, 1)\n",
        "        \n",
        "        self.saved_actions = []\n",
        "        self.rewards = []\n",
        "\n",
        "    def forward(self, x):\n",
        "        # TODO: Fill in. For your networks, use the same hidden_size for the layers as the previous policy, that is 128.\n",
        "        # Actor forward pass\n",
        "        actor_x = F.relu(self.actor_affine1(x))\n",
        "        action_prob = F.softmax(self.action_head(actor_x), dim=-1)\n",
        "\n",
        "        # Critic forward pass\n",
        "        critic_x = F.relu(self.critic_affine1(x))\n",
        "        state_values = self.value_head(critic_x)\n",
        "        # return values for both actor and critic as a tuple of 2 values:\n",
        "        # 1. A list with the probability of each action over the action space\n",
        "        # 2. The value from state s_t\n",
        "        return action_prob, state_values\n",
        "    \n"
      ]
    },
    {
      "cell_type": "code",
      "execution_count": 20,
      "metadata": {
        "id": "l6UxnVPkkWkH"
      },
      "outputs": [
        {
          "name": "stdout",
          "output_type": "stream",
          "text": [
            "Episode 0\tLast reward: 11.00\tAverage reward: 10.05\n",
            "Episode 10\tLast reward: 29.00\tAverage reward: 21.53\n",
            "Episode 20\tLast reward: 129.00\tAverage reward: 46.80\n",
            "Episode 30\tLast reward: 434.00\tAverage reward: 130.49\n",
            "Episode 40\tLast reward: 9999.00\tAverage reward: 707.31\n",
            "Solved! Running reward is now 707.3117556396027 and the last episode runs to 9999 time steps!\n"
          ]
        }
      ],
      "source": [
        "model = UnsharedPolicy()\n",
        "optimizer = optim.Adam(model.parameters(), lr=3e-2)\n",
        "eps = np.finfo(np.float32).eps.item()\n",
        "train()"
      ]
    },
    {
      "cell_type": "code",
      "execution_count": null,
      "metadata": {
        "id": "FG2ZpUfdkdif"
      },
      "outputs": [],
      "source": []
    }
  ],
  "metadata": {
    "colab": {
      "provenance": []
    },
    "kernelspec": {
      "display_name": "Python 3",
      "name": "python3"
    },
    "language_info": {
      "codemirror_mode": {
        "name": "ipython",
        "version": 3
      },
      "file_extension": ".py",
      "mimetype": "text/x-python",
      "name": "python",
      "nbconvert_exporter": "python",
      "pygments_lexer": "ipython3",
      "version": "3.11.7"
    }
  },
  "nbformat": 4,
  "nbformat_minor": 0
}
