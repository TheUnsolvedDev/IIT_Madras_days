{
  "nbformat": 4,
  "nbformat_minor": 0,
  "metadata": {
    "colab": {
      "provenance": []
    },
    "kernelspec": {
      "name": "python3",
      "display_name": "Python 3"
    },
    "language_info": {
      "name": "python"
    }
  },
  "cells": [
    {
      "cell_type": "markdown",
      "source": [
        "# General Instructions to students:\n",
        "\n",
        "1. There are 4 types of cells in this notebook. The cell type will be indicated within the cell.\n",
        "    1. Markdown cells with problem written in it. (DO NOT TOUCH THESE CELLS) (**Cell type: TextRead**)\n",
        "    2. Python cells with setup code for further evaluations. (DO NOT TOUCH THESE CELLS) (**Cell type: CodeRead**)\n",
        "    3. Python code cells with some template code or empty cell. (FILL CODE IN THESE CELLS BASED ON INSTRUCTIONS IN CURRENT AND PREVIOUS CELLS) (**Cell type: CodeWrite**)\n",
        "    4. Markdown cells where a written reasoning or conclusion is expected. (WRITE SENTENCES IN THESE CELLS) (**Cell type: TextWrite**)\n",
        "    \n",
        "2. You are not allowed to insert new cells in the submitted notebook.\n",
        "\n",
        "3. You are not allowed to import any extra packages, unless needed.\n",
        "\n",
        "4. The code is to be written in Python 3.x syntax. Latest versions of other packages maybe assumed.\n",
        "\n",
        "5. In CodeWrite Cells, the only outputs to be given are plots asked in the question. Nothing else to be output/printed.\n",
        "\n",
        "6. If TextWrite cells ask you to give accuracy/error/other numbers, you can print them on the code cells, but remove the print statements before submitting.\n",
        "\n",
        "7. Any runtime failures on the submitted notebook will get zero marks.\n",
        "\n",
        "8. All code must be written by you. Copying from other students/material on the web is strictly prohibited. Any violations will result in zero marks.\n",
        "\n",
        "10. All plots must be labelled properly, the labels/legends should be readable, all tables must have rows and columns named properly.\n",
        "\n",
        "11. Change the name of file with your roll no. For example cs15d203.ipynb (for notebook) and cs15d203.py (for plain python script)\n",
        "\n",
        "\n",
        "\n"
      ],
      "metadata": {
        "id": "342ziGnewCr7"
      }
    },
    {
      "cell_type": "code",
      "execution_count": 1,
      "metadata": {
        "id": "We3kiiDJ8eV2"
      },
      "outputs": [],
      "source": [
        "# Cell type : CodeRead\n",
        "\n",
        "import numpy as np\n",
        "import matplotlib.pyplot as plt"
      ]
    },
    {
      "cell_type": "code",
      "source": [
        "from google.colab import drive\n",
        "drive.mount('/content/drive')"
      ],
      "metadata": {
        "id": "ulH9ZPOkCwSS",
        "outputId": "e39dc439-31e9-4d7e-8ab4-f5876101590e",
        "colab": {
          "base_uri": "https://localhost:8080/"
        }
      },
      "execution_count": 75,
      "outputs": [
        {
          "output_type": "stream",
          "name": "stdout",
          "text": [
            "Drive already mounted at /content/drive; to attempt to forcibly remount, call drive.mount(\"/content/drive\", force_remount=True).\n"
          ]
        }
      ]
    },
    {
      "cell_type": "code",
      "source": [
        "%cd /content/drive/MyDrive/Classes/PRML/Assignment2/\n"
      ],
      "metadata": {
        "colab": {
          "base_uri": "https://localhost:8080/"
        },
        "id": "orLy1pnGF-T_",
        "outputId": "4c185c6c-8bba-4aa0-df99-d0304854a837"
      },
      "execution_count": 2,
      "outputs": [
        {
          "output_type": "stream",
          "name": "stdout",
          "text": [
            "/content/drive/MyDrive/Classes/PRML/Assignment2\n"
          ]
        }
      ]
    },
    {
      "cell_type": "markdown",
      "source": [
        "\n",
        "**Cell type : TextRead**\n",
        "\n",
        "Problem 4: Life in Lower Dimensions\n",
        "\n",
        "You are provided with a [dataset](https://drive.google.com/file/d/1wOp8K9BS8Ncmjz7aP8RdqukqkGNSwK4i/view?usp=drive_link) of 1797 images - each image is 8x8 pixels and provided as a feature vector of length 64. You will try your hands at transforming this dataset to a lower-dimensional space using PCA clustering the images in this reduced space.\n",
        "\n",
        "Run the PCA algorithm on the given dataset. Plot the cumulative percentage variance explained by the principal components. Report the number of principal components that contribute to 90% of the variance in the dataset."
      ],
      "metadata": {
        "id": "g0s0y4Y8wbTC"
      }
    },
    {
      "cell_type": "code",
      "source": [
        "# Cell type : CodeWrite\n",
        "# write the function for PCA clustering here.\n",
        "data = np.load('Data.npz')\n",
        "lst = data.files\n",
        "for item in lst:\n",
        "    Data = data[item]\n",
        "\n",
        "def PCA(Data):\n",
        "    \"\"\" Computes the likelihood score of a data point with respect to a given class\n",
        "    given the class' mean and covariance matrix\n",
        "\n",
        "    Arguments:\n",
        "    Data: Dataset\n",
        "\n",
        "\n",
        "\n",
        "    Returns:\n",
        "    numPCs: number of principal components that contribute to 90% of the varaince in the dataset.\n",
        "\n",
        "    \"\"\"\n",
        "    mean = np.mean(Data, axis=0)\n",
        "    centered_data = Data - mean\n",
        "    covariance_matrix = np.cov(centered_data, rowvar=False)\n",
        "    eigenvalues, eigenvectors = np.linalg.eig(covariance_matrix)\n",
        "\n",
        "    # sorted_indices = np.argsort(eigenvalues)[::-1]\n",
        "    # eigenvalues = eigenvalues[sorted_indices]\n",
        "    # eigenvectors = eigenvectors[:, sorted_indices]\n",
        "\n",
        "    cumulative_variance = np.cumsum(eigenvalues) / np.sum(eigenvalues)\n",
        "    numPCs = np.argmax(cumulative_variance >= 0.9) + 1\n",
        "\n",
        "    plt.figure(figsize=(10, 6))\n",
        "    plt.plot(cumulative_variance, marker='o')\n",
        "    plt.xlabel('Number of Principal Components')\n",
        "    plt.ylabel('Cumulative Percentage Variance Explained')\n",
        "    plt.title('Cumulative Percentage Variance Explained by Principal Components')\n",
        "    plt.grid(True)\n",
        "    plt.show()\n",
        "\n",
        "    return numPCs\n",
        "\n",
        "print('Num Principal components with variance describing more than 90% is',PCA(Data))"
      ],
      "metadata": {
        "id": "9hTbuarfwjmz",
        "colab": {
          "base_uri": "https://localhost:8080/",
          "height": 581
        },
        "outputId": "549c4508-c154-43a7-8528-35fc5bbc8f9f"
      },
      "execution_count": 5,
      "outputs": [
        {
          "output_type": "display_data",
          "data": {
            "text/plain": [
              "<Figure size 1000x600 with 1 Axes>"
            ],
            "image/png": "[encoded data removed]"
          },
          "metadata": {}
        },
        {
          "output_type": "stream",
          "name": "stdout",
          "text": [
            "Num Principal components with variance describing more than 90% is 21\n"
          ]
        }
      ]
    },
    {
      "cell_type": "markdown",
      "source": [
        "4b)  Perform reconstruction of data using the dimensionality-reduced data considering the number of dimensions [2,4,8,16]. Report the Mean Square Error (MSE) between the original data and reconstructed data, and interpret the optimal dimensions $\\hat{d}$ based on the MSE values."
      ],
      "metadata": {
        "id": "u_P8cXAFwsol"
      }
    },
    {
      "cell_type": "code",
      "source": [
        "# Cell type : CodeWrite\n",
        "# Write the code for data reconstruction, run the algorithm for dimensions.\n",
        "\n",
        "def pca_evd(A, num_components = 2):\n",
        "    mean_A = np.mean(A,axis = 0)\n",
        "    centered_A = A - mean_A\n",
        "    cov_matrix = np.cov(centered_A, rowvar=False)\n",
        "    eigenvalues, eigenvectors = np.linalg.eig(cov_matrix)\n",
        "\n",
        "    projection_matrix = eigenvectors[:, :num_components]\n",
        "    projected_A = centered_A.dot(projection_matrix)\n",
        "    reconstructed_A = projected_A.dot(projection_matrix.T) + mean_A\n",
        "    return projected_A,reconstructed_A\n",
        "\n",
        "def svd_flip(u, v, u_based_decision=True):\n",
        "    if u_based_decision:\n",
        "        max_abs_cols = np.argmax(np.abs(u), axis=0)\n",
        "        signs = np.sign(u[max_abs_cols, range(u.shape[1])])\n",
        "        u *= signs\n",
        "        v *= signs[:, np.newaxis]\n",
        "    else:\n",
        "        # rows of v, columns of u\n",
        "        max_abs_rows = np.argmax(np.abs(v), axis=1)\n",
        "        signs = np.sign(v[range(v.shape[0]), max_abs_rows])\n",
        "        u *= signs\n",
        "        v *= signs[:, np.newaxis]\n",
        "    return u, v\n",
        "\n",
        "def pca_svd(A,num_components = 2):\n",
        "    mean_A = np.mean(A,axis = 0)\n",
        "    centered_A = A - mean_A\n",
        "    U, S, V = np.linalg.svd(centered_A, full_matrices=False)\n",
        "    U,V = svd_flip(U,V)\n",
        "    projected_A = np.dot(centered_A, V[:num_components].T)\n",
        "    reconstructed_A = np.dot(projected_A, V[:num_components]) + mean_A\n",
        "    return projected_A,reconstructed_A\n",
        "\n",
        "def mse(A,B):\n",
        "    return np.square(np.subtract(A, B)).mean()\n",
        "\n",
        "if __name__ == '__main__':\n",
        "    for num_components in [2,4,8,16]:\n",
        "        new_Data,rec_Data = pca_svd(Data,num_components)\n",
        "        print(\"MSE of The original vs Th reconstructed one is:\",mse(Data,rec_Data))"
      ],
      "metadata": {
        "id": "v8QIbVLkw3Pz",
        "colab": {
          "base_uri": "https://localhost:8080/"
        },
        "outputId": "388312ee-65aa-412d-a48d-6b6efae30517"
      },
      "execution_count": 8,
      "outputs": [
        {
          "output_type": "stream",
          "name": "stdout",
          "text": [
            "MSE of The original vs Th reconstructed one is: 13.421012200761453\n",
            "MSE of The original vs Th reconstructed one is: 9.62798640712921\n",
            "MSE of The original vs Th reconstructed one is: 6.121792751796509\n",
            "MSE of The original vs Th reconstructed one is: 2.827182863396541\n"
          ]
        }
      ]
    },
    {
      "cell_type": "markdown",
      "source": [
        "#### Just Some basic analysis and insights about what I had found to be confusing enough with a some description while implementing it, Hope that you could mail me some of your insights and corrections while checking."
      ],
      "metadata": {
        "id": "Up2pnMvVHAgb"
      }
    },
    {
      "cell_type": "markdown",
      "source": [
        "# Dummy Data as of question no-2"
      ],
      "metadata": {
        "id": "NPYTlt39Hdc6"
      }
    },
    {
      "cell_type": "code",
      "source": [
        "data = np.array([\n",
        "    [5.51, 5.35],\n",
        "    [20.82, 24.03],\n",
        "    [-0.77, -0.57],\n",
        "    [19.30, 19.38],\n",
        "    [14.24, 12.77],\n",
        "    [9.74, 9.68],\n",
        "    [11.59, 12.06],\n",
        "    [-6.08, -5.22]\n",
        "])\n",
        "\n",
        "# data = np.hstack([data,3.5*np.ones((data.shape[0],1))])\n",
        "# data"
      ],
      "metadata": {
        "id": "1KVbt3npxuHA"
      },
      "execution_count": 10,
      "outputs": []
    },
    {
      "cell_type": "markdown",
      "source": [
        "## Analysis 1:\n",
        "(Let's just forget about the reconstruction and projection for a moment and look into the eigen vectors and values)"
      ],
      "metadata": {
        "id": "pizPya9eHme3"
      }
    },
    {
      "cell_type": "code",
      "source": [
        "A = data.copy()\n",
        "num_components = 2\n",
        "\n",
        "mean_A = np.mean(A,axis = 0)\n",
        "centered_A = A - mean_A\n",
        "cov_matrix = np.cov(centered_A, rowvar=False)\n",
        "eigenvalues, eigenvectors = np.linalg.eig(cov_matrix)\n",
        "\n",
        "projection_matrix = eigenvectors[:, :num_components]\n",
        "projected_A = centered_A.dot(projection_matrix)\n",
        "reconstructed_A = projected_A.dot(projection_matrix.T) + mean_A\n",
        "\n",
        "print('Eigen values:',eigenvalues)\n",
        "print('Eigen vectors',*[i for i in eigenvectors])\n",
        "print()\n",
        "\n",
        "print('Projected Values\\n',projected_A)\n",
        "print('Reconstructed Values\\n',reconstructed_A)\n",
        "print('Original one\\n',data)\n",
        "print('Reconstruction MSE:',np.sqrt(np.square(A - reconstructed_A)).mean())"
      ],
      "metadata": {
        "colab": {
          "base_uri": "https://localhost:8080/"
        },
        "id": "ex2LH7mEHlk9",
        "outputId": "3c636109-86a0-451b-b60d-bb0d1b1a91cc"
      },
      "execution_count": 20,
      "outputs": [
        {
          "output_type": "stream",
          "name": "stdout",
          "text": [
            "Eigen values: [  0.81663462 181.45636359]\n",
            "Eigen vectors [-0.71990351 -0.69407416] [ 0.69407416 -0.71990351]\n",
            "\n",
            "Projected Values\n",
            " [[-2.84876608e-01  5.74698481e+00]\n",
            " [ 1.65870609e+00 -1.83270881e+01]\n",
            " [ 1.27198361e-01  1.43675993e+01]\n",
            " [-4.74485440e-01 -1.39245441e+01]\n",
            " [-1.41960392e+00 -5.65396664e+00]\n",
            " [-3.24727310e-01 -3.06131078e-01]\n",
            " [-4.65228708e-03 -3.30353862e+00]\n",
            " [ 7.22441116e-01  2.14006844e+01]]\n",
            "Reconstructed Values\n",
            " [[ 5.51  5.35]\n",
            " [20.82 24.03]\n",
            " [-0.77 -0.57]\n",
            " [19.3  19.38]\n",
            " [14.24 12.77]\n",
            " [ 9.74  9.68]\n",
            " [11.59 12.06]\n",
            " [-6.08 -5.22]]\n",
            "Original one\n",
            " [[ 5.51  5.35]\n",
            " [20.82 24.03]\n",
            " [-0.77 -0.57]\n",
            " [19.3  19.38]\n",
            " [14.24 12.77]\n",
            " [ 9.74  9.68]\n",
            " [11.59 12.06]\n",
            " [-6.08 -5.22]]\n",
            "Reconstruction MSE: 2.1510571102112408e-16\n"
          ]
        }
      ]
    },
    {
      "cell_type": "markdown",
      "source": [
        "# Analysis 2:"
      ],
      "metadata": {
        "id": "h3qDkb9oJLkb"
      }
    },
    {
      "cell_type": "code",
      "source": [
        "A = data.copy()\n",
        "num_components = 2\n",
        "\n",
        "mean_A = np.mean(A,axis = 0)\n",
        "centered_A = A - mean_A\n",
        "U, S, V = np.linalg.svd(centered_A, full_matrices=False)\n",
        "# U,V = svd_flip(U,V)\n",
        "projected_A = np.dot(centered_A, V[:num_components].T)\n",
        "reconstructed_A = np.dot(projected_A, V[:num_components]) + mean_A\n",
        "\n",
        "print('Singular values:',S)\n",
        "print('Rotation V',V[0],V[1])\n",
        "print()\n",
        "\n",
        "print('Projected Values\\n',projected_A)\n",
        "print('Reconstructed Values\\n',reconstructed_A)\n",
        "print('Original one\\n',data)\n",
        "print('Reconstruction MSE:',np.sqrt(np.square(A - reconstructed_A)).mean())"
      ],
      "metadata": {
        "colab": {
          "base_uri": "https://localhost:8080/"
        },
        "id": "tBgXuJ7RINN0",
        "outputId": "f27f516f-5eb5-4885-93fb-451ed2a15aa8"
      },
      "execution_count": 18,
      "outputs": [
        {
          "output_type": "stream",
          "name": "stdout",
          "text": [
            "Singular values: [35.63978879  2.39090827]\n",
            "Rotation V [0.69407416 0.71990351] [ 0.71990351 -0.69407416]\n",
            "\n",
            "Projected Values\n",
            " [[-5.74698481e+00  2.84876608e-01]\n",
            " [ 1.83270881e+01 -1.65870609e+00]\n",
            " [-1.43675993e+01 -1.27198361e-01]\n",
            " [ 1.39245441e+01  4.74485440e-01]\n",
            " [ 5.65396664e+00  1.41960392e+00]\n",
            " [ 3.06131078e-01  3.24727310e-01]\n",
            " [ 3.30353862e+00  4.65228708e-03]\n",
            " [-2.14006844e+01 -7.22441116e-01]]\n",
            "Reconstructed Values\n",
            " [[ 5.51  5.35]\n",
            " [20.82 24.03]\n",
            " [-0.77 -0.57]\n",
            " [19.3  19.38]\n",
            " [14.24 12.77]\n",
            " [ 9.74  9.68]\n",
            " [11.59 12.06]\n",
            " [-6.08 -5.22]]\n",
            "Original one\n",
            " [[ 5.51  5.35]\n",
            " [20.82 24.03]\n",
            " [-0.77 -0.57]\n",
            " [19.3  19.38]\n",
            " [14.24 12.77]\n",
            " [ 9.74  9.68]\n",
            " [11.59 12.06]\n",
            " [-6.08 -5.22]]\n",
            "Reconstruction MSE: 2.615963001773025e-15\n"
          ]
        }
      ]
    },
    {
      "cell_type": "code",
      "source": [
        "A = data.copy()\n",
        "num_components = 2\n",
        "\n",
        "mean_A = np.mean(A,axis = 0)\n",
        "centered_A = A - mean_A\n",
        "U, S, V = np.linalg.svd(centered_A, full_matrices=False)\n",
        "U,V = svd_flip(U,V) # Applying this https://www.osti.gov/servlets/purl/920802\n",
        "projected_A = np.dot(centered_A, V[:num_components].T)\n",
        "reconstructed_A = np.dot(projected_A, V[:num_components]) + mean_A\n",
        "\n",
        "print('Singular values:',S)\n",
        "print('Rotation V',V[0],V[1])\n",
        "print()\n",
        "\n",
        "print('Projected Values\\n',projected_A)\n",
        "print('Reconstructed Values\\n',reconstructed_A)\n",
        "print('Original one\\n',data)\n",
        "print('Reconstruction MSE:',np.sqrt(np.square(A - reconstructed_A)).mean())"
      ],
      "metadata": {
        "colab": {
          "base_uri": "https://localhost:8080/"
        },
        "id": "-kHULgzkJS2e",
        "outputId": "6044c4b8-6f88-44dd-d1cf-88fa06c29141"
      },
      "execution_count": 19,
      "outputs": [
        {
          "output_type": "stream",
          "name": "stdout",
          "text": [
            "Singular values: [35.63978879  2.39090827]\n",
            "Rotation V [-0.69407416 -0.71990351] [-0.71990351  0.69407416]\n",
            "\n",
            "Projected Values\n",
            " [[ 5.74698481e+00 -2.84876608e-01]\n",
            " [-1.83270881e+01  1.65870609e+00]\n",
            " [ 1.43675993e+01  1.27198361e-01]\n",
            " [-1.39245441e+01 -4.74485440e-01]\n",
            " [-5.65396664e+00 -1.41960392e+00]\n",
            " [-3.06131078e-01 -3.24727310e-01]\n",
            " [-3.30353862e+00 -4.65228708e-03]\n",
            " [ 2.14006844e+01  7.22441116e-01]]\n",
            "Reconstructed Values\n",
            " [[ 5.51  5.35]\n",
            " [20.82 24.03]\n",
            " [-0.77 -0.57]\n",
            " [19.3  19.38]\n",
            " [14.24 12.77]\n",
            " [ 9.74  9.68]\n",
            " [11.59 12.06]\n",
            " [-6.08 -5.22]]\n",
            "Original one\n",
            " [[ 5.51  5.35]\n",
            " [20.82 24.03]\n",
            " [-0.77 -0.57]\n",
            " [19.3  19.38]\n",
            " [14.24 12.77]\n",
            " [ 9.74  9.68]\n",
            " [11.59 12.06]\n",
            " [-6.08 -5.22]]\n",
            "Reconstruction MSE: 2.615963001773025e-15\n"
          ]
        }
      ]
    },
    {
      "cell_type": "markdown",
      "source": [
        "Going through all of that we can see we are to reconstruct the whole data with all the values but the eigen vectors and eigen values are different so which method should I opt for while implementing that?? And also Why it's happening like that"
      ],
      "metadata": {
        "id": "E7R39Bj-Keg3"
      }
    },
    {
      "cell_type": "code",
      "source": [],
      "metadata": {
        "id": "euOvDdsWswaS"
      },
      "execution_count": null,
      "outputs": []
    }
  ]
}