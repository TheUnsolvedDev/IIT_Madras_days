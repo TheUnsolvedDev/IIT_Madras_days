{
 "cells": [
  {
   "cell_type": "code",
   "execution_count": 1,
   "metadata": {},
   "outputs": [],
   "source": [
    "import numpy as np\n",
    "import jax\n",
    "import jax.numpy as np\n",
    "import os\n",
    "from map_gpu import *\n",
    "\n",
    "os.environ['XLA_PYTHON_CLIENT_PREALLOCATE'] = 'false'"
   ]
  },
  {
   "cell_type": "markdown",
   "metadata": {},
   "source": [
    "# Problem Setting of the environment\n",
    "\n",
    "Arms = $\\set{a_{ij} | i=1,\\cdots,N \\text{ and } j = 1,\\cdots,N }$\n",
    "\n",
    "Feedback = $b_t = \\langle a_t,\\theta_{*} \\rangle + \\eta_t$ , $\\eta_t \\in \\mathcal{N}(0,1)$\n",
    "\n",
    "Estimate = $\\hat{\\theta_t} = \\underset{\\theta}{\\mathrm{argmin}} \\|a^T_t\\theta - b_t\\|^2 + Reg(\\theta)$,           $Reg(\\theta_p,M) = \\|M^{-1}(\\theta - \\theta_p)\\|^2_2$\n",
    "\n",
    "Formulating that:\n",
    "$\\begin{align}\n",
    "    & \\underset{\\theta}{min} \\|A\\theta - b\\|^2 + \\|M^{-1}(\\theta - \\theta_p)\\|^2_2 \\\\\n",
    "    L &= \\frac{1}{2}[(A\\theta - b)^T(A\\theta - b) + (M^{-1}(\\theta - \\theta_p))^T(M^{-1}(\\theta - \\theta_p))] \\\\ \n",
    "    L &= \\frac{1}{2}\\theta^TA^TA\\theta + \\theta^TA^Tb + \\frac{1}{2}b^Tb + \\frac{1}{2}\\theta^TM^{-2}\\theta -\\theta^TM^{-2}\\theta_p + \\frac{1}{2}\\theta^T_pM^{-2}\\theta_P \\\\\n",
    "\\end{align}$\n",
    "\n",
    "\n",
    "$\\begin{align}\n",
    "    & \\frac{\\partial L}{\\partial \\theta} = 0 \\text{ i.e. } A^TA\\theta A^Tb + M^{-2}\\theta + M^{-2}\\theta_p = 0 \\\\\n",
    "    & (A^TA + M^{-2})\\theta = A^Tb + M^{-2}\\theta_p \\\\\n",
    "    & \\theta = (A^TA + M^{-2})^{-1}(A^Tb + M^{-2}\\theta_p)\n",
    "\\end{align}$"
   ]
  },
  {
   "cell_type": "markdown",
   "metadata": {},
   "source": []
  }
 ],
 "metadata": {
  "kernelspec": {
   "display_name": "GPU_CS23E001",
   "language": "python",
   "name": "python3"
  },
  "language_info": {
   "codemirror_mode": {
    "name": "ipython",
    "version": 3
   },
   "file_extension": ".py",
   "mimetype": "text/x-python",
   "name": "python",
   "nbconvert_exporter": "python",
   "pygments_lexer": "ipython3",
   "version": "3.10.12"
  },
  "orig_nbformat": 4
 },
 "nbformat": 4,
 "nbformat_minor": 2
}
